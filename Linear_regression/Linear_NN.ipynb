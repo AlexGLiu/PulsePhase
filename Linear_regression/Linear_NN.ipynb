{
 "cells": [
  {
   "cell_type": "code",
   "execution_count": 1,
   "metadata": {},
   "outputs": [
    {
     "name": "stderr",
     "output_type": "stream",
     "text": [
      "Using TensorFlow backend.\n"
     ]
    }
   ],
   "source": [
    "import numpy as np\n",
    "from MyGenerator import DataGenerator\n",
    "import tensorflow as tf\n",
    "import keras\n",
    "from keras.callbacks import ModelCheckpoint\n",
    "import pickle\n",
    "import os"
   ]
  },
  {
   "cell_type": "code",
   "execution_count": 2,
   "metadata": {},
   "outputs": [],
   "source": [
    "with open(os.path.join(\"regression_data\", 'labels.pickle'), 'rb') as handle:\n",
    "    labels = pickle.load(handle)"
   ]
  },
  {
   "cell_type": "code",
   "execution_count": 3,
   "metadata": {},
   "outputs": [],
   "source": [
    "list_of_labels = [*labels]\n",
    "np.random.shuffle(list_of_labels)"
   ]
  },
  {
   "cell_type": "code",
   "execution_count": 4,
   "metadata": {},
   "outputs": [
    {
     "data": {
      "text/plain": [
       "50000"
      ]
     },
     "execution_count": 4,
     "metadata": {},
     "output_type": "execute_result"
    }
   ],
   "source": [
    "len(labels)"
   ]
  },
  {
   "cell_type": "code",
   "execution_count": 5,
   "metadata": {},
   "outputs": [],
   "source": [
    "partition = {'train': list_of_labels[:40000], \n",
    "             'validation': list_of_labels[40000:45000],\n",
    "             'test': list_of_labels[45000:50000]}\n",
    "y_label = {'train': [labels[k] for k in partition['train']], \n",
    "           'validation': [labels[k] for k in partition['validation']],\n",
    "           'test': [labels[k] for k in partition['test']]}"
   ]
  },
  {
   "cell_type": "code",
   "execution_count": 6,
   "metadata": {},
   "outputs": [
    {
     "data": {
      "text/plain": [
       "5000"
      ]
     },
     "execution_count": 6,
     "metadata": {},
     "output_type": "execute_result"
    }
   ],
   "source": [
    "len(y_label['validation'])"
   ]
  },
  {
   "cell_type": "code",
   "execution_count": 7,
   "metadata": {},
   "outputs": [
    {
     "data": {
      "text/plain": [
       "5000"
      ]
     },
     "execution_count": 7,
     "metadata": {},
     "output_type": "execute_result"
    }
   ],
   "source": [
    "len(partition['validation'])"
   ]
  },
  {
   "cell_type": "code",
   "execution_count": 8,
   "metadata": {},
   "outputs": [],
   "source": [
    "params = {'dim': (2500,),\n",
    "          'batch_size': 32,\n",
    "          'n_channels': 1,\n",
    "          'shuffle': True}\n",
    "test_params = {'dim': (2500,),\n",
    "               'batch_size': len(partition['test']),\n",
    "               'n_channels': 1,\n",
    "               'shuffle': False}"
   ]
  },
  {
   "cell_type": "code",
   "execution_count": 9,
   "metadata": {},
   "outputs": [],
   "source": [
    "training_generator = DataGenerator(partition['train'], y_label['train'],  **params)\n",
    "validation_generator = DataGenerator(partition['validation'], y_label['validation'],  **params)\n",
    "testing_generator = DataGenerator(partition['test'], y_label['test'],  **test_params)"
   ]
  },
  {
   "cell_type": "code",
   "execution_count": 10,
   "metadata": {},
   "outputs": [
    {
     "name": "stdout",
     "output_type": "stream",
     "text": [
      "_________________________________________________________________\n",
      "Layer (type)                 Output Shape              Param #   \n",
      "=================================================================\n",
      "input_1 (InputLayer)         (None, 2500, 1)           0         \n",
      "_________________________________________________________________\n",
      "conv1d_1 (Conv1D)            (None, 2498, 32)          128       \n",
      "_________________________________________________________________\n",
      "conv1d_2 (Conv1D)            (None, 2496, 32)          3104      \n",
      "_________________________________________________________________\n",
      "conv1d_3 (Conv1D)            (None, 2494, 32)          3104      \n",
      "_________________________________________________________________\n",
      "max_pooling1d_1 (MaxPooling1 (None, 623, 32)           0         \n",
      "_________________________________________________________________\n",
      "conv1d_4 (Conv1D)            (None, 619, 64)           10304     \n",
      "_________________________________________________________________\n",
      "conv1d_5 (Conv1D)            (None, 615, 64)           20544     \n",
      "_________________________________________________________________\n",
      "max_pooling1d_2 (MaxPooling1 (None, 153, 64)           0         \n",
      "_________________________________________________________________\n",
      "conv1d_6 (Conv1D)            (None, 147, 128)          57472     \n",
      "_________________________________________________________________\n",
      "max_pooling1d_3 (MaxPooling1 (None, 36, 128)           0         \n",
      "_________________________________________________________________\n",
      "flatten_1 (Flatten)          (None, 4608)              0         \n",
      "_________________________________________________________________\n",
      "dense_1 (Dense)              (None, 1024)              4719616   \n",
      "_________________________________________________________________\n",
      "dense_2 (Dense)              (None, 2)                 2050      \n",
      "=================================================================\n",
      "Total params: 4,816,322\n",
      "Trainable params: 4,816,322\n",
      "Non-trainable params: 0\n",
      "_________________________________________________________________\n"
     ]
    }
   ],
   "source": [
    "inputs = keras.Input(shape = (2500,1))\n",
    "conv_1_1 = keras.layers.Conv1D(32, kernel_size = 3, activation = 'relu', \n",
    "                            kernel_initializer = keras.initializers.he_normal())(inputs)\n",
    "conv_1_2 = keras.layers.Conv1D(32, kernel_size = 3, activation = 'relu', \n",
    "                            kernel_initializer = keras.initializers.he_normal())(conv_1_1)\n",
    "conv_1_3 = keras.layers.Conv1D(32, kernel_size = 3, activation = 'relu', \n",
    "                            kernel_initializer = keras.initializers.he_normal())(conv_1_2)\n",
    "pool_1 = keras.layers.MaxPool1D(pool_size = 4)(conv_1_3)\n",
    "\n",
    "conv_2_1 = keras.layers.Conv1D(64, kernel_size = 5, activation = 'relu', \n",
    "                            kernel_initializer = keras.initializers.he_normal())(pool_1)\n",
    "conv_2_2 = keras.layers.Conv1D(64, kernel_size = 5, activation = 'relu', \n",
    "                            kernel_initializer = keras.initializers.he_normal())(conv_2_1)\n",
    "#conv_2_3 = keras.layers.Conv1D(64, kernel_size = 3, activation = 'relu', \n",
    "#                            kernel_initializer = keras.initializers.he_normal())(conv_2_2)\n",
    "pool_2 = keras.layers.MaxPool1D(pool_size = 4)(conv_2_2)\n",
    "\n",
    "conv_3_1 = keras.layers.Conv1D(128, kernel_size = 7, activation = 'relu', \n",
    "                            kernel_initializer = keras.initializers.he_normal())(pool_2)\n",
    "#conv_3_2 = keras.layers.Conv1D(128, kernel_size = 3, activation = 'relu', \n",
    "#                            kernel_initializer = keras.initializers.he_normal())(conv_3_1)\n",
    "#conv_3_3 = keras.layers.Conv1D(128, kernel_size = 3, activation = 'relu', \n",
    "#                            kernel_initializer = keras.initializers.he_normal())(conv_3_2)\n",
    "pool_3 = keras.layers.MaxPool1D(pool_size = 4)(conv_3_1)\n",
    "\n",
    "\n",
    "\n",
    "flat_1 = keras.layers.Flatten()(pool_3)\n",
    "\n",
    "\n",
    "\n",
    "dense_1 = keras.layers.Dense(1024, activation = 'relu', \n",
    "                             kernel_initializer = keras.initializers.he_normal())(flat_1)\n",
    "outputs = keras.layers.Dense(2, kernel_initializer = keras.initializers.he_normal())(dense_1)\n",
    "model = keras.Model(inputs = inputs, outputs = outputs)\n",
    "model.summary()"
   ]
  },
  {
   "cell_type": "code",
   "execution_count": 11,
   "metadata": {},
   "outputs": [
    {
     "name": "stdout",
     "output_type": "stream",
     "text": [
      "Epoch 1/50\n",
      "1250/1250 [==============================] - 23s 18ms/step - loss: 1.0177 - mean_absolute_error: 0.4211 - val_loss: 0.2766 - val_mean_absolute_error: 0.2372\n",
      "\n",
      "Epoch 00001: val_loss improved from inf to 0.27659, saving model to saved_models/weights.best.lin_reg.hdf5\n",
      "Epoch 2/50\n",
      "1250/1250 [==============================] - 17s 14ms/step - loss: 0.2336 - mean_absolute_error: 0.2031 - val_loss: 0.2942 - val_mean_absolute_error: 0.3247\n",
      "\n",
      "Epoch 00002: val_loss did not improve from 0.27659\n",
      "Epoch 3/50\n",
      "1250/1250 [==============================] - 18s 14ms/step - loss: 0.1861 - mean_absolute_error: 0.1740 - val_loss: 0.1555 - val_mean_absolute_error: 0.1555\n",
      "\n",
      "Epoch 00003: val_loss improved from 0.27659 to 0.15550, saving model to saved_models/weights.best.lin_reg.hdf5\n",
      "Epoch 4/50\n",
      "1250/1250 [==============================] - 18s 14ms/step - loss: 0.1616 - mean_absolute_error: 0.1602 - val_loss: 0.1405 - val_mean_absolute_error: 0.1488\n",
      "\n",
      "Epoch 00004: val_loss improved from 0.15550 to 0.14052, saving model to saved_models/weights.best.lin_reg.hdf5\n",
      "Epoch 5/50\n",
      "1250/1250 [==============================] - 18s 14ms/step - loss: 0.1455 - mean_absolute_error: 0.1481 - val_loss: 0.1237 - val_mean_absolute_error: 0.1405\n",
      "\n",
      "Epoch 00005: val_loss improved from 0.14052 to 0.12371, saving model to saved_models/weights.best.lin_reg.hdf5\n",
      "Epoch 6/50\n",
      "1250/1250 [==============================] - 19s 15ms/step - loss: 0.1333 - mean_absolute_error: 0.1410 - val_loss: 0.1237 - val_mean_absolute_error: 0.1390\n",
      "\n",
      "Epoch 00006: val_loss did not improve from 0.12371\n",
      "Epoch 7/50\n",
      "1250/1250 [==============================] - 18s 15ms/step - loss: 0.1248 - mean_absolute_error: 0.1345 - val_loss: 0.1121 - val_mean_absolute_error: 0.1308\n",
      "\n",
      "Epoch 00007: val_loss improved from 0.12371 to 0.11212, saving model to saved_models/weights.best.lin_reg.hdf5\n",
      "Epoch 8/50\n",
      "1250/1250 [==============================] - 17s 14ms/step - loss: 0.1178 - mean_absolute_error: 0.1305 - val_loss: 0.1058 - val_mean_absolute_error: 0.1309\n",
      "\n",
      "Epoch 00008: val_loss improved from 0.11212 to 0.10580, saving model to saved_models/weights.best.lin_reg.hdf5\n",
      "Epoch 9/50\n",
      "1250/1250 [==============================] - 18s 15ms/step - loss: 0.1139 - mean_absolute_error: 0.1274 - val_loss: 0.0987 - val_mean_absolute_error: 0.1238\n",
      "\n",
      "Epoch 00009: val_loss improved from 0.10580 to 0.09870, saving model to saved_models/weights.best.lin_reg.hdf5\n",
      "Epoch 10/50\n",
      "1250/1250 [==============================] - 17s 14ms/step - loss: 0.1082 - mean_absolute_error: 0.1224 - val_loss: 0.0966 - val_mean_absolute_error: 0.1208\n",
      "\n",
      "Epoch 00010: val_loss improved from 0.09870 to 0.09662, saving model to saved_models/weights.best.lin_reg.hdf5\n",
      "Epoch 11/50\n",
      "1250/1250 [==============================] - 17s 14ms/step - loss: 0.1044 - mean_absolute_error: 0.1207 - val_loss: 0.0937 - val_mean_absolute_error: 0.1212\n",
      "\n",
      "Epoch 00011: val_loss improved from 0.09662 to 0.09372, saving model to saved_models/weights.best.lin_reg.hdf5\n",
      "Epoch 12/50\n",
      "1250/1250 [==============================] - 17s 14ms/step - loss: 0.1006 - mean_absolute_error: 0.1177 - val_loss: 0.0898 - val_mean_absolute_error: 0.1170\n",
      "\n",
      "Epoch 00012: val_loss improved from 0.09372 to 0.08978, saving model to saved_models/weights.best.lin_reg.hdf5\n",
      "Epoch 13/50\n",
      "1250/1250 [==============================] - 18s 14ms/step - loss: 0.0974 - mean_absolute_error: 0.1154 - val_loss: 0.0856 - val_mean_absolute_error: 0.1149\n",
      "\n",
      "Epoch 00013: val_loss improved from 0.08978 to 0.08561, saving model to saved_models/weights.best.lin_reg.hdf5\n",
      "Epoch 14/50\n",
      "1250/1250 [==============================] - 17s 14ms/step - loss: 0.0963 - mean_absolute_error: 0.1143 - val_loss: 0.0867 - val_mean_absolute_error: 0.1162\n",
      "\n",
      "Epoch 00014: val_loss did not improve from 0.08561\n",
      "Epoch 15/50\n",
      "1250/1250 [==============================] - 17s 14ms/step - loss: 0.0924 - mean_absolute_error: 0.1122 - val_loss: 0.0856 - val_mean_absolute_error: 0.1135\n",
      "\n",
      "Epoch 00015: val_loss improved from 0.08561 to 0.08560, saving model to saved_models/weights.best.lin_reg.hdf5\n",
      "Epoch 16/50\n",
      "1250/1250 [==============================] - 18s 14ms/step - loss: 0.0924 - mean_absolute_error: 0.1122 - val_loss: 0.0842 - val_mean_absolute_error: 0.1154\n",
      "\n",
      "Epoch 00016: val_loss improved from 0.08560 to 0.08422, saving model to saved_models/weights.best.lin_reg.hdf5\n",
      "Epoch 17/50\n",
      "1250/1250 [==============================] - 18s 14ms/step - loss: 0.0889 - mean_absolute_error: 0.1095 - val_loss: 0.0880 - val_mean_absolute_error: 0.1130\n",
      "\n",
      "Epoch 00017: val_loss did not improve from 0.08422\n",
      "Epoch 18/50\n",
      "1250/1250 [==============================] - 18s 14ms/step - loss: 0.0874 - mean_absolute_error: 0.1085 - val_loss: 0.0806 - val_mean_absolute_error: 0.1169\n",
      "\n",
      "Epoch 00018: val_loss improved from 0.08422 to 0.08065, saving model to saved_models/weights.best.lin_reg.hdf5\n",
      "Epoch 19/50\n",
      "1250/1250 [==============================] - 18s 14ms/step - loss: 0.0861 - mean_absolute_error: 0.1072 - val_loss: 0.0773 - val_mean_absolute_error: 0.1091\n",
      "\n",
      "Epoch 00019: val_loss improved from 0.08065 to 0.07728, saving model to saved_models/weights.best.lin_reg.hdf5\n",
      "Epoch 20/50\n",
      "1250/1250 [==============================] - 18s 14ms/step - loss: 0.0850 - mean_absolute_error: 0.1067 - val_loss: 0.0767 - val_mean_absolute_error: 0.1080\n",
      "\n",
      "Epoch 00020: val_loss improved from 0.07728 to 0.07670, saving model to saved_models/weights.best.lin_reg.hdf5\n",
      "Epoch 21/50\n",
      "1250/1250 [==============================] - 18s 14ms/step - loss: 0.0831 - mean_absolute_error: 0.1051 - val_loss: 0.0759 - val_mean_absolute_error: 0.1080\n",
      "\n",
      "Epoch 00021: val_loss improved from 0.07670 to 0.07589, saving model to saved_models/weights.best.lin_reg.hdf5\n",
      "Epoch 22/50\n",
      "1250/1250 [==============================] - 18s 14ms/step - loss: 0.0823 - mean_absolute_error: 0.1044 - val_loss: 0.0733 - val_mean_absolute_error: 0.1055\n",
      "\n",
      "Epoch 00022: val_loss improved from 0.07589 to 0.07331, saving model to saved_models/weights.best.lin_reg.hdf5\n",
      "Epoch 23/50\n",
      "1250/1250 [==============================] - 18s 14ms/step - loss: 0.0808 - mean_absolute_error: 0.1033 - val_loss: 0.0732 - val_mean_absolute_error: 0.1078\n",
      "\n",
      "Epoch 00023: val_loss improved from 0.07331 to 0.07319, saving model to saved_models/weights.best.lin_reg.hdf5\n",
      "Epoch 24/50\n",
      "1250/1250 [==============================] - 18s 14ms/step - loss: 0.0793 - mean_absolute_error: 0.1030 - val_loss: 0.0726 - val_mean_absolute_error: 0.1045\n",
      "\n",
      "Epoch 00024: val_loss improved from 0.07319 to 0.07257, saving model to saved_models/weights.best.lin_reg.hdf5\n",
      "Epoch 25/50\n",
      "1250/1250 [==============================] - 18s 14ms/step - loss: 0.0793 - mean_absolute_error: 0.1025 - val_loss: 0.0712 - val_mean_absolute_error: 0.1042\n",
      "\n",
      "Epoch 00025: val_loss improved from 0.07257 to 0.07123, saving model to saved_models/weights.best.lin_reg.hdf5\n",
      "Epoch 26/50\n",
      "1250/1250 [==============================] - 18s 14ms/step - loss: 0.0774 - mean_absolute_error: 0.1018 - val_loss: 0.0717 - val_mean_absolute_error: 0.1071\n",
      "\n",
      "Epoch 00026: val_loss did not improve from 0.07123\n",
      "Epoch 27/50\n",
      "1250/1250 [==============================] - 18s 14ms/step - loss: 0.0762 - mean_absolute_error: 0.1010 - val_loss: 0.0709 - val_mean_absolute_error: 0.1053\n",
      "\n",
      "Epoch 00027: val_loss improved from 0.07123 to 0.07087, saving model to saved_models/weights.best.lin_reg.hdf5\n",
      "Epoch 28/50\n",
      "1250/1250 [==============================] - 18s 15ms/step - loss: 0.0765 - mean_absolute_error: 0.1005 - val_loss: 0.0706 - val_mean_absolute_error: 0.1055\n",
      "\n",
      "Epoch 00028: val_loss improved from 0.07087 to 0.07061, saving model to saved_models/weights.best.lin_reg.hdf5\n",
      "Epoch 29/50\n",
      "1250/1250 [==============================] - 18s 14ms/step - loss: 0.0744 - mean_absolute_error: 0.0994 - val_loss: 0.0674 - val_mean_absolute_error: 0.1023\n",
      "\n",
      "Epoch 00029: val_loss improved from 0.07061 to 0.06740, saving model to saved_models/weights.best.lin_reg.hdf5\n",
      "Epoch 30/50\n",
      "1250/1250 [==============================] - 18s 14ms/step - loss: 0.0743 - mean_absolute_error: 0.0988 - val_loss: 0.0667 - val_mean_absolute_error: 0.1005\n",
      "\n",
      "Epoch 00030: val_loss improved from 0.06740 to 0.06666, saving model to saved_models/weights.best.lin_reg.hdf5\n",
      "Epoch 31/50\n"
     ]
    },
    {
     "name": "stdout",
     "output_type": "stream",
     "text": [
      "1250/1250 [==============================] - 18s 14ms/step - loss: 0.0733 - mean_absolute_error: 0.0982 - val_loss: 0.0672 - val_mean_absolute_error: 0.1011\n",
      "\n",
      "Epoch 00031: val_loss did not improve from 0.06666\n",
      "Epoch 32/50\n",
      "1250/1250 [==============================] - 18s 14ms/step - loss: 0.0726 - mean_absolute_error: 0.0982 - val_loss: 0.0667 - val_mean_absolute_error: 0.1001\n",
      "\n",
      "Epoch 00032: val_loss did not improve from 0.06666\n",
      "Epoch 33/50\n",
      "1250/1250 [==============================] - 18s 14ms/step - loss: 0.0723 - mean_absolute_error: 0.0977 - val_loss: 0.0666 - val_mean_absolute_error: 0.1014\n",
      "\n",
      "Epoch 00033: val_loss improved from 0.06666 to 0.06663, saving model to saved_models/weights.best.lin_reg.hdf5\n",
      "Epoch 34/50\n",
      "1250/1250 [==============================] - 17s 14ms/step - loss: 0.0704 - mean_absolute_error: 0.0969 - val_loss: 0.0678 - val_mean_absolute_error: 0.1028\n",
      "\n",
      "Epoch 00034: val_loss did not improve from 0.06663\n",
      "Epoch 35/50\n",
      "1250/1250 [==============================] - 17s 14ms/step - loss: 0.0711 - mean_absolute_error: 0.0967 - val_loss: 0.0648 - val_mean_absolute_error: 0.0991\n",
      "\n",
      "Epoch 00035: val_loss improved from 0.06663 to 0.06482, saving model to saved_models/weights.best.lin_reg.hdf5\n",
      "Epoch 36/50\n",
      "1250/1250 [==============================] - 17s 14ms/step - loss: 0.0703 - mean_absolute_error: 0.0960 - val_loss: 0.0643 - val_mean_absolute_error: 0.0993\n",
      "\n",
      "Epoch 00036: val_loss improved from 0.06482 to 0.06429, saving model to saved_models/weights.best.lin_reg.hdf5\n",
      "Epoch 37/50\n",
      "1250/1250 [==============================] - 17s 14ms/step - loss: 0.0695 - mean_absolute_error: 0.0959 - val_loss: 0.0639 - val_mean_absolute_error: 0.0993\n",
      "\n",
      "Epoch 00037: val_loss improved from 0.06429 to 0.06390, saving model to saved_models/weights.best.lin_reg.hdf5\n",
      "Epoch 38/50\n",
      "1250/1250 [==============================] - 17s 14ms/step - loss: 0.0686 - mean_absolute_error: 0.0952 - val_loss: 0.0648 - val_mean_absolute_error: 0.1008\n",
      "\n",
      "Epoch 00038: val_loss did not improve from 0.06390\n",
      "Epoch 39/50\n",
      "1250/1250 [==============================] - 17s 14ms/step - loss: 0.0687 - mean_absolute_error: 0.0952 - val_loss: 0.0631 - val_mean_absolute_error: 0.1001\n",
      "\n",
      "Epoch 00039: val_loss improved from 0.06390 to 0.06315, saving model to saved_models/weights.best.lin_reg.hdf5\n",
      "Epoch 40/50\n",
      "1250/1250 [==============================] - 17s 14ms/step - loss: 0.0682 - mean_absolute_error: 0.0947 - val_loss: 0.0624 - val_mean_absolute_error: 0.0980\n",
      "\n",
      "Epoch 00040: val_loss improved from 0.06315 to 0.06237, saving model to saved_models/weights.best.lin_reg.hdf5\n",
      "Epoch 41/50\n",
      "1250/1250 [==============================] - 17s 14ms/step - loss: 0.0677 - mean_absolute_error: 0.0944 - val_loss: 0.0626 - val_mean_absolute_error: 0.0982\n",
      "\n",
      "Epoch 00041: val_loss did not improve from 0.06237\n",
      "Epoch 42/50\n",
      "1250/1250 [==============================] - 17s 14ms/step - loss: 0.0672 - mean_absolute_error: 0.0939 - val_loss: 0.0617 - val_mean_absolute_error: 0.0979\n",
      "\n",
      "Epoch 00042: val_loss improved from 0.06237 to 0.06169, saving model to saved_models/weights.best.lin_reg.hdf5\n",
      "Epoch 43/50\n",
      "1250/1250 [==============================] - 17s 14ms/step - loss: 0.0662 - mean_absolute_error: 0.0937 - val_loss: 0.0620 - val_mean_absolute_error: 0.0973\n",
      "\n",
      "Epoch 00043: val_loss did not improve from 0.06169\n",
      "Epoch 44/50\n",
      "1250/1250 [==============================] - 17s 14ms/step - loss: 0.0658 - mean_absolute_error: 0.0933 - val_loss: 0.0606 - val_mean_absolute_error: 0.0966\n",
      "\n",
      "Epoch 00044: val_loss improved from 0.06169 to 0.06060, saving model to saved_models/weights.best.lin_reg.hdf5\n",
      "Epoch 45/50\n",
      "1250/1250 [==============================] - 18s 14ms/step - loss: 0.0656 - mean_absolute_error: 0.0934 - val_loss: 0.0609 - val_mean_absolute_error: 0.0977\n",
      "\n",
      "Epoch 00045: val_loss did not improve from 0.06060\n",
      "Epoch 46/50\n",
      "1250/1250 [==============================] - 17s 14ms/step - loss: 0.0650 - mean_absolute_error: 0.0928 - val_loss: 0.0611 - val_mean_absolute_error: 0.0991\n",
      "\n",
      "Epoch 00046: val_loss did not improve from 0.06060\n",
      "Epoch 47/50\n",
      "1250/1250 [==============================] - 17s 14ms/step - loss: 0.0648 - mean_absolute_error: 0.0928 - val_loss: 0.0598 - val_mean_absolute_error: 0.0965\n",
      "\n",
      "Epoch 00047: val_loss improved from 0.06060 to 0.05982, saving model to saved_models/weights.best.lin_reg.hdf5\n",
      "Epoch 48/50\n",
      "1250/1250 [==============================] - 17s 14ms/step - loss: 0.0644 - mean_absolute_error: 0.0923 - val_loss: 0.0596 - val_mean_absolute_error: 0.0963\n",
      "\n",
      "Epoch 00048: val_loss improved from 0.05982 to 0.05963, saving model to saved_models/weights.best.lin_reg.hdf5\n",
      "Epoch 49/50\n",
      "1250/1250 [==============================] - 17s 14ms/step - loss: 0.0641 - mean_absolute_error: 0.0923 - val_loss: 0.0594 - val_mean_absolute_error: 0.0968\n",
      "\n",
      "Epoch 00049: val_loss improved from 0.05963 to 0.05945, saving model to saved_models/weights.best.lin_reg.hdf5\n",
      "Epoch 50/50\n",
      "1250/1250 [==============================] - 17s 14ms/step - loss: 0.0637 - mean_absolute_error: 0.0919 - val_loss: 0.0593 - val_mean_absolute_error: 0.0953\n",
      "\n",
      "Epoch 00050: val_loss improved from 0.05945 to 0.05928, saving model to saved_models/weights.best.lin_reg.hdf5\n"
     ]
    }
   ],
   "source": [
    "if not os.path.exists('saved_models'):\n",
    "    os.makedirs('saved_models')\n",
    "adam = keras.optimizers.Adam(lr=0.001, beta_1=0.9, beta_2=0.999, epsilon=None, decay=0.01, amsgrad=False)\n",
    "checkpointer = ModelCheckpoint(filepath='saved_models/weights.best.lin_reg.hdf5', \n",
    "                               verbose=2, save_best_only=True)\n",
    "model.compile(optimizer=adam,\n",
    "              loss='mean_squared_error', metrics = ['mae'])\n",
    "history = model.fit_generator(generator=training_generator,\n",
    "                              validation_data=validation_generator,\n",
    "                              #steps_per_epoch=training_generator.__len__(),\n",
    "                              #workers=2,\n",
    "                              callbacks=[checkpointer],\n",
    "                              epochs = 50,\n",
    "                              use_multiprocessing=True)"
   ]
  },
  {
   "cell_type": "code",
   "execution_count": 12,
   "metadata": {},
   "outputs": [
    {
     "data": {
      "text/plain": [
       "[0.09784813225269318, 0.099308080971241]"
      ]
     },
     "execution_count": 12,
     "metadata": {},
     "output_type": "execute_result"
    }
   ],
   "source": [
    "model.load_weights('saved_models/weights.best.lin_reg.hdf5')\n",
    "model.evaluate_generator(testing_generator)"
   ]
  },
  {
   "cell_type": "code",
   "execution_count": 13,
   "metadata": {},
   "outputs": [
    {
     "data": {
      "text/plain": [
       "'linear_7546'"
      ]
     },
     "execution_count": 13,
     "metadata": {},
     "output_type": "execute_result"
    }
   ],
   "source": [
    "partition['test'][4]"
   ]
  },
  {
   "cell_type": "code",
   "execution_count": 14,
   "metadata": {},
   "outputs": [
    {
     "data": {
      "text/plain": [
       "[8.62896652601637, 1.6399030358144628]"
      ]
     },
     "execution_count": 14,
     "metadata": {},
     "output_type": "execute_result"
    }
   ],
   "source": [
    "y_label['test'][4]"
   ]
  },
  {
   "cell_type": "code",
   "execution_count": 17,
   "metadata": {},
   "outputs": [],
   "source": [
    "k = 54\n",
    "X_test = np.zeros((1,2500,1))\n",
    "X_test[0,] = np.load(\"regression_data/\" + partition['test'][k] + '.npy')[:,np.newaxis]"
   ]
  },
  {
   "cell_type": "code",
   "execution_count": 18,
   "metadata": {},
   "outputs": [
    {
     "name": "stdout",
     "output_type": "stream",
     "text": [
      "[[3.3109837 1.358473 ]] [3.336433998445978, 1.3866733965257403]\n"
     ]
    }
   ],
   "source": [
    "print(model.predict(X_test), y_label['test'][k] )"
   ]
  },
  {
   "cell_type": "code",
   "execution_count": 19,
   "metadata": {},
   "outputs": [],
   "source": [
    "model.save('saved_models/linear_model.h5')"
   ]
  },
  {
   "cell_type": "code",
   "execution_count": null,
   "metadata": {},
   "outputs": [],
   "source": []
  }
 ],
 "metadata": {
  "kernelspec": {
   "display_name": "Python 3",
   "language": "python",
   "name": "python3"
  },
  "language_info": {
   "codemirror_mode": {
    "name": "ipython",
    "version": 3
   },
   "file_extension": ".py",
   "mimetype": "text/x-python",
   "name": "python",
   "nbconvert_exporter": "python",
   "pygments_lexer": "ipython3",
   "version": "3.6.7"
  }
 },
 "nbformat": 4,
 "nbformat_minor": 2
}
