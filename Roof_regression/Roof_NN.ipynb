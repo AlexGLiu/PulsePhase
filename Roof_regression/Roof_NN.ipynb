{
 "cells": [
  {
   "cell_type": "code",
   "execution_count": 1,
   "metadata": {},
   "outputs": [
    {
     "name": "stderr",
     "output_type": "stream",
     "text": [
      "Using TensorFlow backend.\n"
     ]
    }
   ],
   "source": [
    "import numpy as np\n",
    "from MyGenerator import DataGenerator\n",
    "import tensorflow as tf\n",
    "import keras\n",
    "from keras.callbacks import ModelCheckpoint\n",
    "import pickle\n",
    "import os"
   ]
  },
  {
   "cell_type": "code",
   "execution_count": 2,
   "metadata": {},
   "outputs": [],
   "source": [
    "with open(os.path.join(\"regression_data\", 'labels.pickle'), 'rb') as handle:\n",
    "    labels = pickle.load(handle)"
   ]
  },
  {
   "cell_type": "code",
   "execution_count": 3,
   "metadata": {},
   "outputs": [],
   "source": [
    "list_of_labels = [*labels]\n",
    "np.random.shuffle(list_of_labels)"
   ]
  },
  {
   "cell_type": "code",
   "execution_count": 4,
   "metadata": {},
   "outputs": [
    {
     "data": {
      "text/plain": [
       "50000"
      ]
     },
     "execution_count": 4,
     "metadata": {},
     "output_type": "execute_result"
    }
   ],
   "source": [
    "len(labels)"
   ]
  },
  {
   "cell_type": "code",
   "execution_count": 8,
   "metadata": {},
   "outputs": [],
   "source": [
    "partition = {'train': list_of_labels[:40000], \n",
    "             'validation': list_of_labels[40000:45000],\n",
    "             'test': list_of_labels[45000:50000]}\n",
    "y_label = {'train': [labels[k] for k in partition['train']], \n",
    "           'validation': [labels[k] for k in partition['validation']],\n",
    "           'test': [labels[k] for k in partition['test']]}"
   ]
  },
  {
   "cell_type": "code",
   "execution_count": 9,
   "metadata": {},
   "outputs": [
    {
     "data": {
      "text/plain": [
       "5000"
      ]
     },
     "execution_count": 9,
     "metadata": {},
     "output_type": "execute_result"
    }
   ],
   "source": [
    "len(y_label['validation'])"
   ]
  },
  {
   "cell_type": "code",
   "execution_count": 10,
   "metadata": {},
   "outputs": [
    {
     "data": {
      "text/plain": [
       "5000"
      ]
     },
     "execution_count": 10,
     "metadata": {},
     "output_type": "execute_result"
    }
   ],
   "source": [
    "len(partition['validation'])"
   ]
  },
  {
   "cell_type": "code",
   "execution_count": 11,
   "metadata": {},
   "outputs": [],
   "source": [
    "params = {'dim': (2500,),\n",
    "          'batch_size': 32,\n",
    "          'n_channels': 1,\n",
    "          'shuffle': True}\n",
    "test_params = {'dim': (2500,),\n",
    "               'batch_size': len(partition['test']),\n",
    "               'n_channels': 1,\n",
    "               'shuffle': False}"
   ]
  },
  {
   "cell_type": "code",
   "execution_count": 12,
   "metadata": {},
   "outputs": [],
   "source": [
    "training_generator = DataGenerator(partition['train'], y_label['train'],  **params)\n",
    "validation_generator = DataGenerator(partition['validation'], y_label['validation'],  **params)\n",
    "testing_generator = DataGenerator(partition['test'], y_label['test'],  **test_params)"
   ]
  },
  {
   "cell_type": "code",
   "execution_count": 13,
   "metadata": {},
   "outputs": [
    {
     "name": "stdout",
     "output_type": "stream",
     "text": [
      "_________________________________________________________________\n",
      "Layer (type)                 Output Shape              Param #   \n",
      "=================================================================\n",
      "input_1 (InputLayer)         (None, 2500, 1)           0         \n",
      "_________________________________________________________________\n",
      "conv1d_1 (Conv1D)            (None, 2498, 32)          128       \n",
      "_________________________________________________________________\n",
      "conv1d_2 (Conv1D)            (None, 2496, 32)          3104      \n",
      "_________________________________________________________________\n",
      "conv1d_3 (Conv1D)            (None, 2494, 32)          3104      \n",
      "_________________________________________________________________\n",
      "max_pooling1d_1 (MaxPooling1 (None, 623, 32)           0         \n",
      "_________________________________________________________________\n",
      "conv1d_4 (Conv1D)            (None, 619, 64)           10304     \n",
      "_________________________________________________________________\n",
      "conv1d_5 (Conv1D)            (None, 615, 64)           20544     \n",
      "_________________________________________________________________\n",
      "max_pooling1d_2 (MaxPooling1 (None, 153, 64)           0         \n",
      "_________________________________________________________________\n",
      "conv1d_6 (Conv1D)            (None, 147, 128)          57472     \n",
      "_________________________________________________________________\n",
      "max_pooling1d_3 (MaxPooling1 (None, 36, 128)           0         \n",
      "_________________________________________________________________\n",
      "flatten_1 (Flatten)          (None, 4608)              0         \n",
      "_________________________________________________________________\n",
      "dense_1 (Dense)              (None, 1024)              4719616   \n",
      "_________________________________________________________________\n",
      "dense_2 (Dense)              (None, 3)                 3075      \n",
      "=================================================================\n",
      "Total params: 4,817,347\n",
      "Trainable params: 4,817,347\n",
      "Non-trainable params: 0\n",
      "_________________________________________________________________\n"
     ]
    }
   ],
   "source": [
    "inputs = keras.Input(shape = (2500,1))\n",
    "conv_1_1 = keras.layers.Conv1D(32, kernel_size = 3, activation = 'relu', \n",
    "                            kernel_initializer = keras.initializers.he_normal())(inputs)\n",
    "conv_1_2 = keras.layers.Conv1D(32, kernel_size = 3, activation = 'relu', \n",
    "                            kernel_initializer = keras.initializers.he_normal())(conv_1_1)\n",
    "conv_1_3 = keras.layers.Conv1D(32, kernel_size = 3, activation = 'relu', \n",
    "                            kernel_initializer = keras.initializers.he_normal())(conv_1_2)\n",
    "pool_1 = keras.layers.MaxPool1D(pool_size = 4)(conv_1_3)\n",
    "\n",
    "conv_2_1 = keras.layers.Conv1D(64, kernel_size = 5, activation = 'relu', \n",
    "                            kernel_initializer = keras.initializers.he_normal())(pool_1)\n",
    "conv_2_2 = keras.layers.Conv1D(64, kernel_size = 5, activation = 'relu', \n",
    "                            kernel_initializer = keras.initializers.he_normal())(conv_2_1)\n",
    "#conv_2_3 = keras.layers.Conv1D(64, kernel_size = 3, activation = 'relu', \n",
    "#                            kernel_initializer = keras.initializers.he_normal())(conv_2_2)\n",
    "pool_2 = keras.layers.MaxPool1D(pool_size = 4)(conv_2_2)\n",
    "\n",
    "conv_3_1 = keras.layers.Conv1D(128, kernel_size = 7, activation = 'relu', \n",
    "                            kernel_initializer = keras.initializers.he_normal())(pool_2)\n",
    "#conv_3_2 = keras.layers.Conv1D(128, kernel_size = 3, activation = 'relu', \n",
    "#                            kernel_initializer = keras.initializers.he_normal())(conv_3_1)\n",
    "#conv_3_3 = keras.layers.Conv1D(128, kernel_size = 3, activation = 'relu', \n",
    "#                            kernel_initializer = keras.initializers.he_normal())(conv_3_2)\n",
    "pool_3 = keras.layers.MaxPool1D(pool_size = 4)(conv_3_1)\n",
    "\n",
    "\n",
    "\n",
    "flat_1 = keras.layers.Flatten()(pool_3)\n",
    "\n",
    "\n",
    "\n",
    "dense_1 = keras.layers.Dense(1024, activation = 'relu', \n",
    "                             kernel_initializer = keras.initializers.he_normal())(flat_1)\n",
    "outputs = keras.layers.Dense(3, kernel_initializer = keras.initializers.he_normal())(dense_1)\n",
    "model = keras.Model(inputs = inputs, outputs = outputs)\n",
    "model.summary()"
   ]
  },
  {
   "cell_type": "code",
   "execution_count": 14,
   "metadata": {},
   "outputs": [
    {
     "name": "stdout",
     "output_type": "stream",
     "text": [
      "Epoch 1/100\n",
      "1250/1250 [==============================] - 24s 19ms/step - loss: 6.0151 - mean_absolute_error: 0.9122 - val_loss: 0.9053 - val_mean_absolute_error: 0.5015\n",
      "\n",
      "Epoch 00001: val_loss improved from inf to 0.90533, saving model to saved_models/weights.best.roof_reg.hdf5\n",
      "Epoch 2/100\n",
      "1250/1250 [==============================] - 17s 14ms/step - loss: 0.7165 - mean_absolute_error: 0.4329 - val_loss: 0.5825 - val_mean_absolute_error: 0.4014\n",
      "\n",
      "Epoch 00002: val_loss improved from 0.90533 to 0.58250, saving model to saved_models/weights.best.roof_reg.hdf5\n",
      "Epoch 3/100\n",
      "1250/1250 [==============================] - 18s 14ms/step - loss: 0.5569 - mean_absolute_error: 0.3683 - val_loss: 0.5336 - val_mean_absolute_error: 0.3488\n",
      "\n",
      "Epoch 00003: val_loss improved from 0.58250 to 0.53361, saving model to saved_models/weights.best.roof_reg.hdf5\n",
      "Epoch 4/100\n",
      "1250/1250 [==============================] - 18s 14ms/step - loss: 0.4750 - mean_absolute_error: 0.3331 - val_loss: 0.4029 - val_mean_absolute_error: 0.3072\n",
      "\n",
      "Epoch 00004: val_loss improved from 0.53361 to 0.40286, saving model to saved_models/weights.best.roof_reg.hdf5\n",
      "Epoch 5/100\n",
      "1250/1250 [==============================] - 18s 14ms/step - loss: 0.4202 - mean_absolute_error: 0.3071 - val_loss: 0.4208 - val_mean_absolute_error: 0.3024\n",
      "\n",
      "Epoch 00005: val_loss did not improve from 0.40286\n",
      "Epoch 6/100\n",
      "1250/1250 [==============================] - 18s 14ms/step - loss: 0.3734 - mean_absolute_error: 0.2884 - val_loss: 0.3303 - val_mean_absolute_error: 0.2704\n",
      "\n",
      "Epoch 00006: val_loss improved from 0.40286 to 0.33031, saving model to saved_models/weights.best.roof_reg.hdf5\n",
      "Epoch 7/100\n",
      "1250/1250 [==============================] - 18s 14ms/step - loss: 0.3439 - mean_absolute_error: 0.2722 - val_loss: 0.3175 - val_mean_absolute_error: 0.2666\n",
      "\n",
      "Epoch 00007: val_loss improved from 0.33031 to 0.31754, saving model to saved_models/weights.best.roof_reg.hdf5\n",
      "Epoch 8/100\n",
      "1250/1250 [==============================] - 18s 14ms/step - loss: 0.3149 - mean_absolute_error: 0.2608 - val_loss: 0.3294 - val_mean_absolute_error: 0.2616\n",
      "\n",
      "Epoch 00008: val_loss did not improve from 0.31754\n",
      "Epoch 9/100\n",
      "1250/1250 [==============================] - 18s 14ms/step - loss: 0.2931 - mean_absolute_error: 0.2505 - val_loss: 0.3088 - val_mean_absolute_error: 0.2525\n",
      "\n",
      "Epoch 00009: val_loss improved from 0.31754 to 0.30879, saving model to saved_models/weights.best.roof_reg.hdf5\n",
      "Epoch 10/100\n",
      "1250/1250 [==============================] - 18s 14ms/step - loss: 0.2793 - mean_absolute_error: 0.2425 - val_loss: 0.2855 - val_mean_absolute_error: 0.2470\n",
      "\n",
      "Epoch 00010: val_loss improved from 0.30879 to 0.28551, saving model to saved_models/weights.best.roof_reg.hdf5\n",
      "Epoch 11/100\n",
      "1250/1250 [==============================] - 18s 14ms/step - loss: 0.2631 - mean_absolute_error: 0.2342 - val_loss: 0.2852 - val_mean_absolute_error: 0.2341\n",
      "\n",
      "Epoch 00011: val_loss improved from 0.28551 to 0.28522, saving model to saved_models/weights.best.roof_reg.hdf5\n",
      "Epoch 12/100\n",
      "1250/1250 [==============================] - 18s 14ms/step - loss: 0.2510 - mean_absolute_error: 0.2280 - val_loss: 0.2590 - val_mean_absolute_error: 0.2373\n",
      "\n",
      "Epoch 00012: val_loss improved from 0.28522 to 0.25899, saving model to saved_models/weights.best.roof_reg.hdf5\n",
      "Epoch 13/100\n",
      "1250/1250 [==============================] - 18s 14ms/step - loss: 0.2410 - mean_absolute_error: 0.2218 - val_loss: 0.2429 - val_mean_absolute_error: 0.2225\n",
      "\n",
      "Epoch 00013: val_loss improved from 0.25899 to 0.24286, saving model to saved_models/weights.best.roof_reg.hdf5\n",
      "Epoch 14/100\n",
      "1250/1250 [==============================] - 18s 14ms/step - loss: 0.2308 - mean_absolute_error: 0.2168 - val_loss: 0.2466 - val_mean_absolute_error: 0.2194\n",
      "\n",
      "Epoch 00014: val_loss did not improve from 0.24286\n",
      "Epoch 15/100\n",
      "1250/1250 [==============================] - 17s 14ms/step - loss: 0.2225 - mean_absolute_error: 0.2123 - val_loss: 0.2690 - val_mean_absolute_error: 0.2237\n",
      "\n",
      "Epoch 00015: val_loss did not improve from 0.24286\n",
      "Epoch 16/100\n",
      "1250/1250 [==============================] - 17s 14ms/step - loss: 0.2187 - mean_absolute_error: 0.2084 - val_loss: 0.2273 - val_mean_absolute_error: 0.2132\n",
      "\n",
      "Epoch 00016: val_loss improved from 0.24286 to 0.22731, saving model to saved_models/weights.best.roof_reg.hdf5\n",
      "Epoch 17/100\n",
      "1250/1250 [==============================] - 17s 14ms/step - loss: 0.2065 - mean_absolute_error: 0.2048 - val_loss: 0.2205 - val_mean_absolute_error: 0.2094\n",
      "\n",
      "Epoch 00017: val_loss improved from 0.22731 to 0.22046, saving model to saved_models/weights.best.roof_reg.hdf5\n",
      "Epoch 18/100\n",
      "1250/1250 [==============================] - 17s 14ms/step - loss: 0.2056 - mean_absolute_error: 0.2016 - val_loss: 0.2181 - val_mean_absolute_error: 0.2033\n",
      "\n",
      "Epoch 00018: val_loss improved from 0.22046 to 0.21811, saving model to saved_models/weights.best.roof_reg.hdf5\n",
      "Epoch 19/100\n",
      "1250/1250 [==============================] - 17s 14ms/step - loss: 0.1989 - mean_absolute_error: 0.1984 - val_loss: 0.2174 - val_mean_absolute_error: 0.2021\n",
      "\n",
      "Epoch 00019: val_loss improved from 0.21811 to 0.21743, saving model to saved_models/weights.best.roof_reg.hdf5\n",
      "Epoch 20/100\n",
      "1250/1250 [==============================] - 17s 14ms/step - loss: 0.1917 - mean_absolute_error: 0.1947 - val_loss: 0.2282 - val_mean_absolute_error: 0.2076\n",
      "\n",
      "Epoch 00020: val_loss did not improve from 0.21743\n",
      "Epoch 21/100\n",
      "1250/1250 [==============================] - 17s 14ms/step - loss: 0.1875 - mean_absolute_error: 0.1934 - val_loss: 0.2133 - val_mean_absolute_error: 0.1987\n",
      "\n",
      "Epoch 00021: val_loss improved from 0.21743 to 0.21330, saving model to saved_models/weights.best.roof_reg.hdf5\n",
      "Epoch 22/100\n",
      "1250/1250 [==============================] - 17s 14ms/step - loss: 0.1821 - mean_absolute_error: 0.1904 - val_loss: 0.2140 - val_mean_absolute_error: 0.1980\n",
      "\n",
      "Epoch 00022: val_loss did not improve from 0.21330\n",
      "Epoch 23/100\n",
      "1250/1250 [==============================] - 17s 14ms/step - loss: 0.1790 - mean_absolute_error: 0.1880 - val_loss: 0.2423 - val_mean_absolute_error: 0.2036\n",
      "\n",
      "Epoch 00023: val_loss did not improve from 0.21330\n",
      "Epoch 24/100\n",
      "1250/1250 [==============================] - 17s 14ms/step - loss: 0.1772 - mean_absolute_error: 0.1862 - val_loss: 0.2057 - val_mean_absolute_error: 0.1951\n",
      "\n",
      "Epoch 00024: val_loss improved from 0.21330 to 0.20573, saving model to saved_models/weights.best.roof_reg.hdf5\n",
      "Epoch 25/100\n",
      "1250/1250 [==============================] - 17s 14ms/step - loss: 0.1711 - mean_absolute_error: 0.1844 - val_loss: 0.2028 - val_mean_absolute_error: 0.1917\n",
      "\n",
      "Epoch 00025: val_loss improved from 0.20573 to 0.20276, saving model to saved_models/weights.best.roof_reg.hdf5\n",
      "Epoch 26/100\n",
      "1250/1250 [==============================] - 17s 14ms/step - loss: 0.1681 - mean_absolute_error: 0.1823 - val_loss: 0.1980 - val_mean_absolute_error: 0.1939\n",
      "\n",
      "Epoch 00026: val_loss improved from 0.20276 to 0.19800, saving model to saved_models/weights.best.roof_reg.hdf5\n",
      "Epoch 27/100\n",
      "1250/1250 [==============================] - 17s 14ms/step - loss: 0.1686 - mean_absolute_error: 0.1808 - val_loss: 0.1911 - val_mean_absolute_error: 0.1880\n",
      "\n",
      "Epoch 00027: val_loss improved from 0.19800 to 0.19108, saving model to saved_models/weights.best.roof_reg.hdf5\n",
      "Epoch 28/100\n",
      "1250/1250 [==============================] - 17s 14ms/step - loss: 0.1608 - mean_absolute_error: 0.1788 - val_loss: 0.1980 - val_mean_absolute_error: 0.1885\n",
      "\n",
      "Epoch 00028: val_loss did not improve from 0.19108\n",
      "Epoch 29/100\n",
      "1250/1250 [==============================] - 17s 14ms/step - loss: 0.1621 - mean_absolute_error: 0.1779 - val_loss: 0.1892 - val_mean_absolute_error: 0.1844\n",
      "\n",
      "Epoch 00029: val_loss improved from 0.19108 to 0.18920, saving model to saved_models/weights.best.roof_reg.hdf5\n",
      "Epoch 30/100\n",
      "1250/1250 [==============================] - 17s 14ms/step - loss: 0.1568 - mean_absolute_error: 0.1762 - val_loss: 0.1861 - val_mean_absolute_error: 0.1844\n",
      "\n",
      "Epoch 00030: val_loss improved from 0.18920 to 0.18609, saving model to saved_models/weights.best.roof_reg.hdf5\n",
      "Epoch 31/100\n",
      "1250/1250 [==============================] - 17s 14ms/step - loss: 0.1546 - mean_absolute_error: 0.1743 - val_loss: 0.1873 - val_mean_absolute_error: 0.1839\n",
      "\n",
      "Epoch 00031: val_loss did not improve from 0.18609\n",
      "Epoch 32/100\n",
      "1250/1250 [==============================] - 18s 14ms/step - loss: 0.1520 - mean_absolute_error: 0.1732 - val_loss: 0.1838 - val_mean_absolute_error: 0.1829\n",
      "\n",
      "Epoch 00032: val_loss improved from 0.18609 to 0.18382, saving model to saved_models/weights.best.roof_reg.hdf5\n",
      "Epoch 33/100\n",
      "1250/1250 [==============================] - 17s 14ms/step - loss: 0.1510 - mean_absolute_error: 0.1724 - val_loss: 0.1817 - val_mean_absolute_error: 0.1820\n",
      "\n",
      "Epoch 00033: val_loss improved from 0.18382 to 0.18171, saving model to saved_models/weights.best.roof_reg.hdf5\n",
      "Epoch 34/100\n",
      "1250/1250 [==============================] - 18s 15ms/step - loss: 0.1490 - mean_absolute_error: 0.1712 - val_loss: 0.1844 - val_mean_absolute_error: 0.1839\n",
      "\n",
      "Epoch 00034: val_loss did not improve from 0.18171\n",
      "Epoch 35/100\n",
      "1250/1250 [==============================] - 17s 14ms/step - loss: 0.1475 - mean_absolute_error: 0.1696 - val_loss: 0.1797 - val_mean_absolute_error: 0.1807\n",
      "\n",
      "Epoch 00035: val_loss improved from 0.18171 to 0.17968, saving model to saved_models/weights.best.roof_reg.hdf5\n",
      "Epoch 36/100\n",
      "1250/1250 [==============================] - 17s 14ms/step - loss: 0.1432 - mean_absolute_error: 0.1681 - val_loss: 0.1797 - val_mean_absolute_error: 0.1787\n",
      "\n",
      "Epoch 00036: val_loss did not improve from 0.17968\n",
      "Epoch 37/100\n",
      "1250/1250 [==============================] - 18s 14ms/step - loss: 0.1435 - mean_absolute_error: 0.1681 - val_loss: 0.1831 - val_mean_absolute_error: 0.1814\n",
      "\n",
      "Epoch 00037: val_loss did not improve from 0.17968\n",
      "Epoch 38/100\n",
      "1250/1250 [==============================] - 17s 14ms/step - loss: 0.1421 - mean_absolute_error: 0.1671 - val_loss: 0.1877 - val_mean_absolute_error: 0.1819\n",
      "\n",
      "Epoch 00038: val_loss did not improve from 0.17968\n",
      "Epoch 39/100\n",
      "1250/1250 [==============================] - 18s 14ms/step - loss: 0.1405 - mean_absolute_error: 0.1658 - val_loss: 0.1806 - val_mean_absolute_error: 0.1785\n",
      "\n",
      "Epoch 00039: val_loss did not improve from 0.17968\n",
      "Epoch 40/100\n",
      "1250/1250 [==============================] - 17s 14ms/step - loss: 0.1382 - mean_absolute_error: 0.1651 - val_loss: 0.1767 - val_mean_absolute_error: 0.1796\n",
      "\n",
      "Epoch 00040: val_loss improved from 0.17968 to 0.17667, saving model to saved_models/weights.best.roof_reg.hdf5\n",
      "Epoch 41/100\n",
      "1250/1250 [==============================] - 17s 14ms/step - loss: 0.1381 - mean_absolute_error: 0.1642 - val_loss: 0.1782 - val_mean_absolute_error: 0.1757\n",
      "\n",
      "Epoch 00041: val_loss did not improve from 0.17667\n",
      "Epoch 42/100\n",
      "1250/1250 [==============================] - 17s 14ms/step - loss: 0.1363 - mean_absolute_error: 0.1630 - val_loss: 0.1777 - val_mean_absolute_error: 0.1760\n",
      "\n",
      "Epoch 00042: val_loss did not improve from 0.17667\n",
      "Epoch 43/100\n",
      "1250/1250 [==============================] - 18s 14ms/step - loss: 0.1337 - mean_absolute_error: 0.1623 - val_loss: 0.1716 - val_mean_absolute_error: 0.1750\n",
      "\n",
      "Epoch 00043: val_loss improved from 0.17667 to 0.17155, saving model to saved_models/weights.best.roof_reg.hdf5\n",
      "Epoch 44/100\n",
      "1250/1250 [==============================] - 18s 15ms/step - loss: 0.1320 - mean_absolute_error: 0.1614 - val_loss: 0.1734 - val_mean_absolute_error: 0.1743\n",
      "\n",
      "Epoch 00044: val_loss did not improve from 0.17155\n",
      "Epoch 45/100\n",
      "1250/1250 [==============================] - 18s 14ms/step - loss: 0.1308 - mean_absolute_error: 0.1608 - val_loss: 0.1776 - val_mean_absolute_error: 0.1747\n",
      "\n",
      "Epoch 00045: val_loss did not improve from 0.17155\n",
      "Epoch 46/100\n",
      "1250/1250 [==============================] - 17s 14ms/step - loss: 0.1293 - mean_absolute_error: 0.1602 - val_loss: 0.1730 - val_mean_absolute_error: 0.1742\n",
      "\n",
      "Epoch 00046: val_loss did not improve from 0.17155\n",
      "Epoch 47/100\n",
      "1250/1250 [==============================] - 17s 14ms/step - loss: 0.1300 - mean_absolute_error: 0.1598 - val_loss: 0.1726 - val_mean_absolute_error: 0.1749\n",
      "\n",
      "Epoch 00047: val_loss did not improve from 0.17155\n",
      "Epoch 48/100\n",
      "1250/1250 [==============================] - 17s 14ms/step - loss: 0.1275 - mean_absolute_error: 0.1589 - val_loss: 0.1719 - val_mean_absolute_error: 0.1722\n",
      "\n",
      "Epoch 00048: val_loss did not improve from 0.17155\n",
      "Epoch 49/100\n",
      "1250/1250 [==============================] - 17s 14ms/step - loss: 0.1262 - mean_absolute_error: 0.1580 - val_loss: 0.1702 - val_mean_absolute_error: 0.1718\n",
      "\n",
      "Epoch 00049: val_loss improved from 0.17155 to 0.17024, saving model to saved_models/weights.best.roof_reg.hdf5\n",
      "Epoch 50/100\n",
      "1250/1250 [==============================] - 17s 14ms/step - loss: 0.1258 - mean_absolute_error: 0.1578 - val_loss: 0.1655 - val_mean_absolute_error: 0.1746\n",
      "\n",
      "Epoch 00050: val_loss improved from 0.17024 to 0.16554, saving model to saved_models/weights.best.roof_reg.hdf5\n",
      "Epoch 51/100\n",
      "1250/1250 [==============================] - 17s 14ms/step - loss: 0.1241 - mean_absolute_error: 0.1571 - val_loss: 0.1673 - val_mean_absolute_error: 0.1712\n",
      "\n",
      "Epoch 00051: val_loss did not improve from 0.16554\n",
      "Epoch 52/100\n",
      "1250/1250 [==============================] - 17s 14ms/step - loss: 0.1232 - mean_absolute_error: 0.1560 - val_loss: 0.1654 - val_mean_absolute_error: 0.1701\n",
      "\n",
      "Epoch 00052: val_loss improved from 0.16554 to 0.16537, saving model to saved_models/weights.best.roof_reg.hdf5\n",
      "Epoch 53/100\n",
      "1250/1250 [==============================] - 17s 14ms/step - loss: 0.1221 - mean_absolute_error: 0.1559 - val_loss: 0.1655 - val_mean_absolute_error: 0.1700\n",
      "\n",
      "Epoch 00053: val_loss did not improve from 0.16537\n",
      "Epoch 54/100\n",
      "1250/1250 [==============================] - 17s 14ms/step - loss: 0.1217 - mean_absolute_error: 0.1554 - val_loss: 0.1643 - val_mean_absolute_error: 0.1708\n",
      "\n",
      "Epoch 00054: val_loss improved from 0.16537 to 0.16429, saving model to saved_models/weights.best.roof_reg.hdf5\n",
      "Epoch 55/100\n",
      "1250/1250 [==============================] - 17s 14ms/step - loss: 0.1198 - mean_absolute_error: 0.1547 - val_loss: 0.1618 - val_mean_absolute_error: 0.1679\n",
      "\n",
      "Epoch 00055: val_loss improved from 0.16429 to 0.16180, saving model to saved_models/weights.best.roof_reg.hdf5\n",
      "Epoch 56/100\n",
      "1250/1250 [==============================] - 17s 14ms/step - loss: 0.1196 - mean_absolute_error: 0.1541 - val_loss: 0.1734 - val_mean_absolute_error: 0.1699\n",
      "\n",
      "Epoch 00056: val_loss did not improve from 0.16180\n",
      "Epoch 57/100\n",
      "1250/1250 [==============================] - 17s 14ms/step - loss: 0.1184 - mean_absolute_error: 0.1538 - val_loss: 0.1551 - val_mean_absolute_error: 0.1668\n",
      "\n",
      "Epoch 00057: val_loss improved from 0.16180 to 0.15511, saving model to saved_models/weights.best.roof_reg.hdf5\n",
      "Epoch 58/100\n",
      "1250/1250 [==============================] - 17s 14ms/step - loss: 0.1181 - mean_absolute_error: 0.1533 - val_loss: 0.1704 - val_mean_absolute_error: 0.1686\n",
      "\n",
      "Epoch 00058: val_loss did not improve from 0.15511\n",
      "Epoch 59/100\n",
      "1250/1250 [==============================] - 17s 14ms/step - loss: 0.1167 - mean_absolute_error: 0.1529 - val_loss: 0.1609 - val_mean_absolute_error: 0.1687\n",
      "\n",
      "Epoch 00059: val_loss did not improve from 0.15511\n",
      "Epoch 60/100\n",
      "1250/1250 [==============================] - 17s 14ms/step - loss: 0.1167 - mean_absolute_error: 0.1526 - val_loss: 0.1573 - val_mean_absolute_error: 0.1661\n",
      "\n",
      "Epoch 00060: val_loss did not improve from 0.15511\n",
      "Epoch 61/100\n",
      "1250/1250 [==============================] - 17s 14ms/step - loss: 0.1144 - mean_absolute_error: 0.1516 - val_loss: 0.1560 - val_mean_absolute_error: 0.1658\n",
      "\n",
      "Epoch 00061: val_loss did not improve from 0.15511\n",
      "Epoch 62/100\n",
      "1250/1250 [==============================] - 17s 14ms/step - loss: 0.1134 - mean_absolute_error: 0.1512 - val_loss: 0.1632 - val_mean_absolute_error: 0.1666\n",
      "\n",
      "Epoch 00062: val_loss did not improve from 0.15511\n",
      "Epoch 63/100\n",
      "1250/1250 [==============================] - 18s 14ms/step - loss: 0.1141 - mean_absolute_error: 0.1507 - val_loss: 0.1600 - val_mean_absolute_error: 0.1659\n",
      "\n",
      "Epoch 00063: val_loss did not improve from 0.15511\n",
      "Epoch 64/100\n",
      "1250/1250 [==============================] - 17s 14ms/step - loss: 0.1125 - mean_absolute_error: 0.1502 - val_loss: 0.1656 - val_mean_absolute_error: 0.1667\n",
      "\n",
      "Epoch 00064: val_loss did not improve from 0.15511\n",
      "Epoch 65/100\n"
     ]
    },
    {
     "name": "stdout",
     "output_type": "stream",
     "text": [
      "1250/1250 [==============================] - 17s 14ms/step - loss: 0.1129 - mean_absolute_error: 0.1500 - val_loss: 0.1562 - val_mean_absolute_error: 0.1651\n",
      "\n",
      "Epoch 00065: val_loss did not improve from 0.15511\n",
      "Epoch 66/100\n",
      "1250/1250 [==============================] - 17s 14ms/step - loss: 0.1119 - mean_absolute_error: 0.1496 - val_loss: 0.1591 - val_mean_absolute_error: 0.1666\n",
      "\n",
      "Epoch 00066: val_loss did not improve from 0.15511\n",
      "Epoch 67/100\n",
      "1250/1250 [==============================] - 17s 14ms/step - loss: 0.1118 - mean_absolute_error: 0.1493 - val_loss: 0.1572 - val_mean_absolute_error: 0.1643\n",
      "\n",
      "Epoch 00067: val_loss did not improve from 0.15511\n",
      "Epoch 68/100\n",
      "1250/1250 [==============================] - 17s 14ms/step - loss: 0.1091 - mean_absolute_error: 0.1486 - val_loss: 0.1542 - val_mean_absolute_error: 0.1642\n",
      "\n",
      "Epoch 00068: val_loss improved from 0.15511 to 0.15417, saving model to saved_models/weights.best.roof_reg.hdf5\n",
      "Epoch 69/100\n",
      "1250/1250 [==============================] - 17s 14ms/step - loss: 0.1089 - mean_absolute_error: 0.1482 - val_loss: 0.1571 - val_mean_absolute_error: 0.1647\n",
      "\n",
      "Epoch 00069: val_loss did not improve from 0.15417\n",
      "Epoch 70/100\n",
      "1250/1250 [==============================] - 17s 14ms/step - loss: 0.1087 - mean_absolute_error: 0.1478 - val_loss: 0.1560 - val_mean_absolute_error: 0.1638\n",
      "\n",
      "Epoch 00070: val_loss did not improve from 0.15417\n",
      "Epoch 71/100\n",
      "1250/1250 [==============================] - 17s 14ms/step - loss: 0.1096 - mean_absolute_error: 0.1480 - val_loss: 0.1557 - val_mean_absolute_error: 0.1640\n",
      "\n",
      "Epoch 00071: val_loss did not improve from 0.15417\n",
      "Epoch 72/100\n",
      "1250/1250 [==============================] - 17s 14ms/step - loss: 0.1065 - mean_absolute_error: 0.1469 - val_loss: 0.1563 - val_mean_absolute_error: 0.1627\n",
      "\n",
      "Epoch 00072: val_loss did not improve from 0.15417\n",
      "Epoch 73/100\n",
      "1250/1250 [==============================] - 17s 14ms/step - loss: 0.1053 - mean_absolute_error: 0.1465 - val_loss: 0.1537 - val_mean_absolute_error: 0.1645\n",
      "\n",
      "Epoch 00073: val_loss improved from 0.15417 to 0.15373, saving model to saved_models/weights.best.roof_reg.hdf5\n",
      "Epoch 74/100\n",
      "1250/1250 [==============================] - 18s 14ms/step - loss: 0.1070 - mean_absolute_error: 0.1463 - val_loss: 0.1547 - val_mean_absolute_error: 0.1630\n",
      "\n",
      "Epoch 00074: val_loss did not improve from 0.15373\n",
      "Epoch 75/100\n",
      "1250/1250 [==============================] - 17s 14ms/step - loss: 0.1054 - mean_absolute_error: 0.1462 - val_loss: 0.1563 - val_mean_absolute_error: 0.1633\n",
      "\n",
      "Epoch 00075: val_loss did not improve from 0.15373\n",
      "Epoch 76/100\n",
      "1250/1250 [==============================] - 17s 14ms/step - loss: 0.1055 - mean_absolute_error: 0.1457 - val_loss: 0.1574 - val_mean_absolute_error: 0.1636\n",
      "\n",
      "Epoch 00076: val_loss did not improve from 0.15373\n",
      "Epoch 77/100\n",
      "1250/1250 [==============================] - 17s 14ms/step - loss: 0.1051 - mean_absolute_error: 0.1455 - val_loss: 0.1520 - val_mean_absolute_error: 0.1625\n",
      "\n",
      "Epoch 00077: val_loss improved from 0.15373 to 0.15195, saving model to saved_models/weights.best.roof_reg.hdf5\n",
      "Epoch 78/100\n",
      "1250/1250 [==============================] - 17s 13ms/step - loss: 0.1038 - mean_absolute_error: 0.1450 - val_loss: 0.1528 - val_mean_absolute_error: 0.1629\n",
      "\n",
      "Epoch 00078: val_loss did not improve from 0.15195\n",
      "Epoch 79/100\n",
      "1250/1250 [==============================] - 17s 14ms/step - loss: 0.1039 - mean_absolute_error: 0.1448 - val_loss: 0.1510 - val_mean_absolute_error: 0.1609\n",
      "\n",
      "Epoch 00079: val_loss improved from 0.15195 to 0.15103, saving model to saved_models/weights.best.roof_reg.hdf5\n",
      "Epoch 80/100\n",
      "1250/1250 [==============================] - 17s 14ms/step - loss: 0.1022 - mean_absolute_error: 0.1444 - val_loss: 0.1526 - val_mean_absolute_error: 0.1607\n",
      "\n",
      "Epoch 00080: val_loss did not improve from 0.15103\n",
      "Epoch 81/100\n",
      "1250/1250 [==============================] - 17s 14ms/step - loss: 0.1039 - mean_absolute_error: 0.1441 - val_loss: 0.1504 - val_mean_absolute_error: 0.1604\n",
      "\n",
      "Epoch 00081: val_loss improved from 0.15103 to 0.15042, saving model to saved_models/weights.best.roof_reg.hdf5\n",
      "Epoch 82/100\n",
      "1250/1250 [==============================] - 17s 14ms/step - loss: 0.1025 - mean_absolute_error: 0.1439 - val_loss: 0.1536 - val_mean_absolute_error: 0.1618\n",
      "\n",
      "Epoch 00082: val_loss did not improve from 0.15042\n",
      "Epoch 83/100\n",
      "1250/1250 [==============================] - 17s 14ms/step - loss: 0.1025 - mean_absolute_error: 0.1436 - val_loss: 0.1489 - val_mean_absolute_error: 0.1610\n",
      "\n",
      "Epoch 00083: val_loss improved from 0.15042 to 0.14893, saving model to saved_models/weights.best.roof_reg.hdf5\n",
      "Epoch 84/100\n",
      "1250/1250 [==============================] - 17s 14ms/step - loss: 0.1007 - mean_absolute_error: 0.1431 - val_loss: 0.1506 - val_mean_absolute_error: 0.1605\n",
      "\n",
      "Epoch 00084: val_loss did not improve from 0.14893\n",
      "Epoch 85/100\n",
      "1250/1250 [==============================] - 17s 14ms/step - loss: 0.1005 - mean_absolute_error: 0.1429 - val_loss: 0.1509 - val_mean_absolute_error: 0.1601\n",
      "\n",
      "Epoch 00085: val_loss did not improve from 0.14893\n",
      "Epoch 86/100\n",
      "1250/1250 [==============================] - 18s 14ms/step - loss: 0.0998 - mean_absolute_error: 0.1426 - val_loss: 0.1497 - val_mean_absolute_error: 0.1598\n",
      "\n",
      "Epoch 00086: val_loss did not improve from 0.14893\n",
      "Epoch 87/100\n",
      "1250/1250 [==============================] - 18s 15ms/step - loss: 0.0998 - mean_absolute_error: 0.1424 - val_loss: 0.1474 - val_mean_absolute_error: 0.1593\n",
      "\n",
      "Epoch 00087: val_loss improved from 0.14893 to 0.14736, saving model to saved_models/weights.best.roof_reg.hdf5\n",
      "Epoch 88/100\n",
      "1250/1250 [==============================] - 18s 14ms/step - loss: 0.0996 - mean_absolute_error: 0.1419 - val_loss: 0.1477 - val_mean_absolute_error: 0.1595\n",
      "\n",
      "Epoch 00088: val_loss did not improve from 0.14736\n",
      "Epoch 89/100\n",
      "1250/1250 [==============================] - 18s 14ms/step - loss: 0.0992 - mean_absolute_error: 0.1419 - val_loss: 0.1545 - val_mean_absolute_error: 0.1602\n",
      "\n",
      "Epoch 00089: val_loss did not improve from 0.14736\n",
      "Epoch 90/100\n",
      "1250/1250 [==============================] - 18s 15ms/step - loss: 0.0978 - mean_absolute_error: 0.1416 - val_loss: 0.1468 - val_mean_absolute_error: 0.1583\n",
      "\n",
      "Epoch 00090: val_loss improved from 0.14736 to 0.14681, saving model to saved_models/weights.best.roof_reg.hdf5\n",
      "Epoch 91/100\n",
      "1250/1250 [==============================] - 18s 14ms/step - loss: 0.0980 - mean_absolute_error: 0.1415 - val_loss: 0.1447 - val_mean_absolute_error: 0.1580\n",
      "\n",
      "Epoch 00091: val_loss improved from 0.14681 to 0.14474, saving model to saved_models/weights.best.roof_reg.hdf5\n",
      "Epoch 92/100\n",
      "1250/1250 [==============================] - 17s 14ms/step - loss: 0.0970 - mean_absolute_error: 0.1409 - val_loss: 0.1486 - val_mean_absolute_error: 0.1590\n",
      "\n",
      "Epoch 00092: val_loss did not improve from 0.14474\n",
      "Epoch 93/100\n",
      "1250/1250 [==============================] - 18s 14ms/step - loss: 0.0973 - mean_absolute_error: 0.1409 - val_loss: 0.1486 - val_mean_absolute_error: 0.1582\n",
      "\n",
      "Epoch 00093: val_loss did not improve from 0.14474\n",
      "Epoch 94/100\n",
      "1250/1250 [==============================] - 18s 14ms/step - loss: 0.0977 - mean_absolute_error: 0.1408 - val_loss: 0.1475 - val_mean_absolute_error: 0.1595\n",
      "\n",
      "Epoch 00094: val_loss did not improve from 0.14474\n",
      "Epoch 95/100\n",
      "1250/1250 [==============================] - 17s 14ms/step - loss: 0.0968 - mean_absolute_error: 0.1405 - val_loss: 0.1469 - val_mean_absolute_error: 0.1585\n",
      "\n",
      "Epoch 00095: val_loss did not improve from 0.14474\n",
      "Epoch 96/100\n",
      "1250/1250 [==============================] - 18s 14ms/step - loss: 0.0957 - mean_absolute_error: 0.1400 - val_loss: 0.1488 - val_mean_absolute_error: 0.1580\n",
      "\n",
      "Epoch 00096: val_loss did not improve from 0.14474\n",
      "Epoch 97/100\n",
      "1250/1250 [==============================] - 17s 14ms/step - loss: 0.0960 - mean_absolute_error: 0.1398 - val_loss: 0.1454 - val_mean_absolute_error: 0.1570\n",
      "\n",
      "Epoch 00097: val_loss did not improve from 0.14474\n",
      "Epoch 98/100\n",
      "1250/1250 [==============================] - 17s 14ms/step - loss: 0.0953 - mean_absolute_error: 0.1396 - val_loss: 0.1483 - val_mean_absolute_error: 0.1582\n",
      "\n",
      "Epoch 00098: val_loss did not improve from 0.14474\n",
      "Epoch 99/100\n",
      "1250/1250 [==============================] - 17s 14ms/step - loss: 0.0947 - mean_absolute_error: 0.1394 - val_loss: 0.1426 - val_mean_absolute_error: 0.1564\n",
      "\n",
      "Epoch 00099: val_loss improved from 0.14474 to 0.14258, saving model to saved_models/weights.best.roof_reg.hdf5\n",
      "Epoch 100/100\n",
      "1250/1250 [==============================] - 17s 14ms/step - loss: 0.0945 - mean_absolute_error: 0.1390 - val_loss: 0.1477 - val_mean_absolute_error: 0.1574\n",
      "\n",
      "Epoch 00100: val_loss did not improve from 0.14258\n"
     ]
    }
   ],
   "source": [
    "if not os.path.exists('saved_models'):\n",
    "    os.makedirs('saved_models')\n",
    "adam = keras.optimizers.Adam(lr=0.01, beta_1=0.9, beta_2=0.999, epsilon=None, decay=0.01, amsgrad=False)\n",
    "checkpointer = ModelCheckpoint(filepath='saved_models/weights.best.roof_reg.hdf5', \n",
    "                               verbose=2, save_best_only=True)\n",
    "model.compile(optimizer=adam,\n",
    "              loss='mean_squared_error', metrics = ['mae'])\n",
    "history = model.fit_generator(generator=training_generator,\n",
    "                              validation_data=validation_generator,\n",
    "                              #steps_per_epoch=training_generator.__len__(),\n",
    "                              #workers=16,\n",
    "                              callbacks=[checkpointer],\n",
    "                              epochs = 100,\n",
    "                              use_multiprocessing=True)"
   ]
  },
  {
   "cell_type": "code",
   "execution_count": 15,
   "metadata": {},
   "outputs": [
    {
     "data": {
      "text/plain": [
       "[0.14824512600898743, 0.1600790023803711]"
      ]
     },
     "execution_count": 15,
     "metadata": {},
     "output_type": "execute_result"
    }
   ],
   "source": [
    "model.load_weights('saved_models/weights.best.roof_reg.hdf5')\n",
    "model.evaluate_generator(testing_generator)"
   ]
  },
  {
   "cell_type": "code",
   "execution_count": 16,
   "metadata": {},
   "outputs": [
    {
     "data": {
      "text/plain": [
       "'roof_15145'"
      ]
     },
     "execution_count": 16,
     "metadata": {},
     "output_type": "execute_result"
    }
   ],
   "source": [
    "partition['test'][4]"
   ]
  },
  {
   "cell_type": "code",
   "execution_count": 17,
   "metadata": {},
   "outputs": [
    {
     "data": {
      "text/plain": [
       "[0.9182646253903681, -9.259415400404274, 3.369987760093432]"
      ]
     },
     "execution_count": 17,
     "metadata": {},
     "output_type": "execute_result"
    }
   ],
   "source": [
    "y_label['test'][4]"
   ]
  },
  {
   "cell_type": "code",
   "execution_count": 18,
   "metadata": {},
   "outputs": [],
   "source": [
    "k = 45\n",
    "X_test = np.zeros((1,2500,1))\n",
    "X_test[0,] = np.load(\"regression_data/\" + partition['test'][k] + '.npy')[:,np.newaxis]"
   ]
  },
  {
   "cell_type": "code",
   "execution_count": 19,
   "metadata": {},
   "outputs": [
    {
     "name": "stdout",
     "output_type": "stream",
     "text": [
      "[[7.3826365 9.1093235 3.4070392]] [7.265479012812818, 9.089658725624282, 3.5855657503976275]\n"
     ]
    }
   ],
   "source": [
    "print(model.predict(X_test), y_label['test'][k] )"
   ]
  },
  {
   "cell_type": "code",
   "execution_count": 20,
   "metadata": {},
   "outputs": [],
   "source": [
    "model.save('saved_models/roof_model.h5')"
   ]
  },
  {
   "cell_type": "code",
   "execution_count": null,
   "metadata": {},
   "outputs": [],
   "source": []
  }
 ],
 "metadata": {
  "kernelspec": {
   "display_name": "Python 3",
   "language": "python",
   "name": "python3"
  },
  "language_info": {
   "codemirror_mode": {
    "name": "ipython",
    "version": 3
   },
   "file_extension": ".py",
   "mimetype": "text/x-python",
   "name": "python",
   "nbconvert_exporter": "python",
   "pygments_lexer": "ipython3",
   "version": "3.6.7"
  }
 },
 "nbformat": 4,
 "nbformat_minor": 2
}
